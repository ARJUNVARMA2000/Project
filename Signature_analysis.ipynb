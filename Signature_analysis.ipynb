{
 "cells": [
  {
   "cell_type": "code",
   "execution_count": 2,
   "metadata": {},
   "outputs": [
    {
     "data": {
      "text/plain": [
       "'\\ndev_id = r.json()[\"dev_id\"]\\nv1 = r.json()[\"v1\"]\\ncreate_ts = r.json()[\"create_ts\"]\\nport = r.json()[\"port\"]\\nvalue = r.json()[\"value\"]\\nx = [v1,dev_id,port,value,create_ts]\\ndf11= pd.DataFrame(x).transpose()\\n'"
      ]
     },
     "execution_count": 2,
     "metadata": {},
     "output_type": "execute_result"
    }
   ],
   "source": [
    "'''\n",
    "dev_id = r.json()[\"dev_id\"]\n",
    "v1 = r.json()[\"v1\"]\n",
    "create_ts = r.json()[\"create_ts\"]\n",
    "port = r.json()[\"port\"]\n",
    "value = r.json()[\"value\"]\n",
    "x = [v1,dev_id,port,value,create_ts]\n",
    "df11= pd.DataFrame(x).transpose()\n",
    "'''"
   ]
  },
  {
   "cell_type": "code",
   "execution_count": 3,
   "metadata": {},
   "outputs": [],
   "source": [
    "import pandas as pd \n",
    "import numpy as np"
   ]
  },
  {
   "cell_type": "code",
   "execution_count": 4,
   "metadata": {},
   "outputs": [
    {
     "data": {
      "text/html": [
       "<div>\n",
       "<style scoped>\n",
       "    .dataframe tbody tr th:only-of-type {\n",
       "        vertical-align: middle;\n",
       "    }\n",
       "\n",
       "    .dataframe tbody tr th {\n",
       "        vertical-align: top;\n",
       "    }\n",
       "\n",
       "    .dataframe thead th {\n",
       "        text-align: right;\n",
       "    }\n",
       "</style>\n",
       "<table border=\"1\" class=\"dataframe\">\n",
       "  <thead>\n",
       "    <tr style=\"text-align: right;\">\n",
       "      <th></th>\n",
       "      <th>0</th>\n",
       "      <th>1</th>\n",
       "      <th>2</th>\n",
       "      <th>3</th>\n",
       "      <th>4</th>\n",
       "    </tr>\n",
       "  </thead>\n",
       "  <tbody>\n",
       "    <tr>\n",
       "      <th>0</th>\n",
       "      <td>1603626051</td>\n",
       "      <td>EC4N0003</td>\n",
       "      <td>A1</td>\n",
       "      <td>0.11</td>\n",
       "      <td>2020-10-21 13:00:02</td>\n",
       "    </tr>\n",
       "  </tbody>\n",
       "</table>\n",
       "</div>"
      ],
      "text/plain": [
       "            0         1   2     3                    4\n",
       "0  1603626051  EC4N0003  A1  0.11  2020-10-21 13:00:02"
      ]
     },
     "execution_count": 4,
     "metadata": {},
     "output_type": "execute_result"
    }
   ],
   "source": [
    "x=[1603626051, \"EC4N0003\",\"A1\",0.11,\"2020-10-21 13:00:02\"]\n",
    "df11= pd.DataFrame(x).transpose()\n",
    "df11"
   ]
  },
  {
   "cell_type": "code",
   "execution_count": 5,
   "metadata": {},
   "outputs": [
    {
     "data": {
      "text/html": [
       "<div>\n",
       "<style scoped>\n",
       "    .dataframe tbody tr th:only-of-type {\n",
       "        vertical-align: middle;\n",
       "    }\n",
       "\n",
       "    .dataframe tbody tr th {\n",
       "        vertical-align: top;\n",
       "    }\n",
       "\n",
       "    .dataframe thead th {\n",
       "        text-align: right;\n",
       "    }\n",
       "</style>\n",
       "<table border=\"1\" class=\"dataframe\">\n",
       "  <thead>\n",
       "    <tr style=\"text-align: right;\">\n",
       "      <th></th>\n",
       "      <th>v1</th>\n",
       "      <th>dev_id</th>\n",
       "      <th>port</th>\n",
       "      <th>value</th>\n",
       "      <th>create_ts</th>\n",
       "    </tr>\n",
       "  </thead>\n",
       "  <tbody>\n",
       "    <tr>\n",
       "      <th>0</th>\n",
       "      <td>1603626051</td>\n",
       "      <td>EC4N0003</td>\n",
       "      <td>A1</td>\n",
       "      <td>0.11</td>\n",
       "      <td>2020-10-21 13:00:02</td>\n",
       "    </tr>\n",
       "  </tbody>\n",
       "</table>\n",
       "</div>"
      ],
      "text/plain": [
       "           v1    dev_id port value            create_ts\n",
       "0  1603626051  EC4N0003   A1  0.11  2020-10-21 13:00:02"
      ]
     },
     "execution_count": 5,
     "metadata": {},
     "output_type": "execute_result"
    }
   ],
   "source": [
    "df11.rename(columns={0: \"v1\", 1: \"dev_id\", 2: \"port\",3: \"value\", 4: \"create_ts\"},inplace=True)\n",
    "df11"
   ]
  },
  {
   "cell_type": "code",
   "execution_count": 6,
   "metadata": {},
   "outputs": [],
   "source": [
    "df = pd.read_csv(\"channel_values.csv\")"
   ]
  },
  {
   "cell_type": "code",
   "execution_count": 7,
   "metadata": {},
   "outputs": [],
   "source": [
    "from clean_data import *\n",
    "df6 = clean_data(df,\"EC4N0003\",\"A0\")"
   ]
  },
  {
   "cell_type": "code",
   "execution_count": 8,
   "metadata": {},
   "outputs": [
    {
     "data": {
      "text/plain": [
       "v1                    int32\n",
       "dev_id               object\n",
       "port                 object\n",
       "value               float64\n",
       "create_ts    datetime64[ns]\n",
       "dtype: object"
      ]
     },
     "execution_count": 8,
     "metadata": {},
     "output_type": "execute_result"
    }
   ],
   "source": [
    "df6.dtypes"
   ]
  },
  {
   "cell_type": "code",
   "execution_count": 9,
   "metadata": {},
   "outputs": [],
   "source": [
    "from rolling import *\n",
    "df2 = rolling_avg1(df6)"
   ]
  },
  {
   "cell_type": "code",
   "execution_count": 10,
   "metadata": {},
   "outputs": [],
   "source": [
    "df2 = df2.append(df11,ignore_index=True)"
   ]
  },
  {
   "cell_type": "code",
   "execution_count": 12,
   "metadata": {},
   "outputs": [
    {
     "data": {
      "text/html": [
       "<div>\n",
       "<style scoped>\n",
       "    .dataframe tbody tr th:only-of-type {\n",
       "        vertical-align: middle;\n",
       "    }\n",
       "\n",
       "    .dataframe tbody tr th {\n",
       "        vertical-align: top;\n",
       "    }\n",
       "\n",
       "    .dataframe thead th {\n",
       "        text-align: right;\n",
       "    }\n",
       "</style>\n",
       "<table border=\"1\" class=\"dataframe\">\n",
       "  <thead>\n",
       "    <tr style=\"text-align: right;\">\n",
       "      <th></th>\n",
       "      <th>v1</th>\n",
       "      <th>dev_id</th>\n",
       "      <th>port</th>\n",
       "      <th>value</th>\n",
       "      <th>create_ts</th>\n",
       "      <th>rolling_avg</th>\n",
       "      <th>pred</th>\n",
       "    </tr>\n",
       "  </thead>\n",
       "  <tbody>\n",
       "    <tr>\n",
       "      <th>801257</th>\n",
       "      <td>1603626048</td>\n",
       "      <td>EC4N0003</td>\n",
       "      <td>A0</td>\n",
       "      <td>0.1</td>\n",
       "      <td>2020-10-25 11:40:49</td>\n",
       "      <td>0.1</td>\n",
       "      <td>Idle</td>\n",
       "    </tr>\n",
       "    <tr>\n",
       "      <th>801258</th>\n",
       "      <td>1603626048</td>\n",
       "      <td>EC4N0003</td>\n",
       "      <td>A0</td>\n",
       "      <td>0.1</td>\n",
       "      <td>2020-10-25 11:40:49</td>\n",
       "      <td>0.1</td>\n",
       "      <td>Idle</td>\n",
       "    </tr>\n",
       "    <tr>\n",
       "      <th>801259</th>\n",
       "      <td>1603626049</td>\n",
       "      <td>EC4N0003</td>\n",
       "      <td>A0</td>\n",
       "      <td>0.1</td>\n",
       "      <td>2020-10-25 11:40:50</td>\n",
       "      <td>0.1</td>\n",
       "      <td>Idle</td>\n",
       "    </tr>\n",
       "    <tr>\n",
       "      <th>801260</th>\n",
       "      <td>1603626050</td>\n",
       "      <td>EC4N0003</td>\n",
       "      <td>A0</td>\n",
       "      <td>0.1</td>\n",
       "      <td>2020-10-25 11:40:51</td>\n",
       "      <td>0.1</td>\n",
       "      <td>Idle</td>\n",
       "    </tr>\n",
       "    <tr>\n",
       "      <th>801261</th>\n",
       "      <td>1603626051</td>\n",
       "      <td>EC4N0003</td>\n",
       "      <td>A1</td>\n",
       "      <td>0.11</td>\n",
       "      <td>2020-10-21 13:00:02</td>\n",
       "      <td>NaN</td>\n",
       "      <td>NaN</td>\n",
       "    </tr>\n",
       "  </tbody>\n",
       "</table>\n",
       "</div>"
      ],
      "text/plain": [
       "                v1    dev_id port value            create_ts  rolling_avg  \\\n",
       "801257  1603626048  EC4N0003   A0   0.1  2020-10-25 11:40:49          0.1   \n",
       "801258  1603626048  EC4N0003   A0   0.1  2020-10-25 11:40:49          0.1   \n",
       "801259  1603626049  EC4N0003   A0   0.1  2020-10-25 11:40:50          0.1   \n",
       "801260  1603626050  EC4N0003   A0   0.1  2020-10-25 11:40:51          0.1   \n",
       "801261  1603626051  EC4N0003   A1  0.11  2020-10-21 13:00:02          NaN   \n",
       "\n",
       "        pred  \n",
       "801257  Idle  \n",
       "801258  Idle  \n",
       "801259  Idle  \n",
       "801260  Idle  \n",
       "801261   NaN  "
      ]
     },
     "execution_count": 12,
     "metadata": {},
     "output_type": "execute_result"
    }
   ],
   "source": [
    "df2.tail()"
   ]
  },
  {
   "cell_type": "code",
   "execution_count": 57,
   "metadata": {},
   "outputs": [],
   "source": [
    "n = 3 #no of signatures\n",
    "\n",
    "rolling1 = [5,0,4] # rolling average of last 5 observations must be between 0 and 4\n",
    "max1 = [2,0,5]     # max value of last 2 readings between 0 and 5\n",
    "min1 = [3,0,4]     # min value of last 3 readings between 0 and 4\n",
    "std1 = [5,0,1]  # stddev of last 5 readings between 0 and 1\n",
    "\n",
    "\n"
   ]
  },
  {
   "cell_type": "code",
   "execution_count": 13,
   "metadata": {},
   "outputs": [],
   "source": [
    "'''\n",
    "Function calling \n",
    "\n",
    "from rollinng import *\n",
    "df2 = rollinng(df2,4)\n",
    "\n",
    "from maximum import *\n",
    "max_values = []\n",
    "max_times = []\n",
    "a,b = maximum(df2,4000)\n",
    "max_values.append(a)\n",
    "max_times.append(b)\n",
    "\n",
    "from mean import *\n",
    "avg = mean(df2,n)\n",
    "\n",
    "from hmean import hmean\n",
    "n = 10\n",
    "hmean = hmean(df2,n)\n",
    "\n",
    "from stddev import *\n",
    "std = stddev(df2,n)\n",
    "std\n",
    "'''"
   ]
  },
  {
   "cell_type": "code",
   "execution_count": 14,
   "metadata": {},
   "outputs": [],
   "source": [
    "from rollinng import *\n",
    "from maximum import *\n",
    "from minimum import *\n",
    "from mean import *\n",
    "from stddev import *"
   ]
  },
  {
   "cell_type": "code",
   "execution_count": 24,
   "metadata": {},
   "outputs": [
    {
     "data": {
      "text/plain": [
       "0.10200000000000001"
      ]
     },
     "execution_count": 24,
     "metadata": {},
     "output_type": "execute_result"
    }
   ],
   "source": [
    "df2 = rollinng(df2,rolling1[-1])\n",
    "df2.loc[df2.index[-1],'rolling_avg']"
   ]
  },
  {
   "cell_type": "code",
   "execution_count": 28,
   "metadata": {},
   "outputs": [],
   "source": [
    "df2.value = df2[\"value\"].astype('float')"
   ]
  },
  {
   "cell_type": "code",
   "execution_count": 78,
   "metadata": {},
   "outputs": [],
   "source": [
    "if((df2.loc[df2.index[-1],'rolling_avg']>rolling1[1]) & (df2.loc[df2.index[-1],'rolling_avg']<rolling1[2])):\n",
    "    a,b = maximum(df2,max1[0])\n",
    "    if((a>max1[1])& (a<max1[2])):\n",
    "        c,d = minimum(df2,min1[0])\n",
    "        if((c>min1[1]) & (c<min1[2])):\n",
    "            standev = stddev(df2,std1[0])\n",
    "            if((standev>std1[1])&(standev<std1[2])):\n",
    "                    df2.loc[df2.index[-1],'pred']= \"Signature1\""
   ]
  },
  {
   "cell_type": "code",
   "execution_count": 79,
   "metadata": {},
   "outputs": [
    {
     "data": {
      "text/html": [
       "<div>\n",
       "<style scoped>\n",
       "    .dataframe tbody tr th:only-of-type {\n",
       "        vertical-align: middle;\n",
       "    }\n",
       "\n",
       "    .dataframe tbody tr th {\n",
       "        vertical-align: top;\n",
       "    }\n",
       "\n",
       "    .dataframe thead th {\n",
       "        text-align: right;\n",
       "    }\n",
       "</style>\n",
       "<table border=\"1\" class=\"dataframe\">\n",
       "  <thead>\n",
       "    <tr style=\"text-align: right;\">\n",
       "      <th></th>\n",
       "      <th>v1</th>\n",
       "      <th>dev_id</th>\n",
       "      <th>port</th>\n",
       "      <th>value</th>\n",
       "      <th>create_ts</th>\n",
       "      <th>rolling_avg</th>\n",
       "      <th>pred</th>\n",
       "    </tr>\n",
       "  </thead>\n",
       "  <tbody>\n",
       "    <tr>\n",
       "      <th>801257</th>\n",
       "      <td>1603626048</td>\n",
       "      <td>EC4N0003</td>\n",
       "      <td>A0</td>\n",
       "      <td>0.10</td>\n",
       "      <td>2020-10-25 11:40:49</td>\n",
       "      <td>0.100</td>\n",
       "      <td>Idle</td>\n",
       "    </tr>\n",
       "    <tr>\n",
       "      <th>801258</th>\n",
       "      <td>1603626048</td>\n",
       "      <td>EC4N0003</td>\n",
       "      <td>A0</td>\n",
       "      <td>0.10</td>\n",
       "      <td>2020-10-25 11:40:49</td>\n",
       "      <td>0.100</td>\n",
       "      <td>Idle</td>\n",
       "    </tr>\n",
       "    <tr>\n",
       "      <th>801259</th>\n",
       "      <td>1603626049</td>\n",
       "      <td>EC4N0003</td>\n",
       "      <td>A0</td>\n",
       "      <td>0.10</td>\n",
       "      <td>2020-10-25 11:40:50</td>\n",
       "      <td>0.100</td>\n",
       "      <td>Idle</td>\n",
       "    </tr>\n",
       "    <tr>\n",
       "      <th>801260</th>\n",
       "      <td>1603626050</td>\n",
       "      <td>EC4N0003</td>\n",
       "      <td>A0</td>\n",
       "      <td>0.10</td>\n",
       "      <td>2020-10-25 11:40:51</td>\n",
       "      <td>0.100</td>\n",
       "      <td>Idle</td>\n",
       "    </tr>\n",
       "    <tr>\n",
       "      <th>801261</th>\n",
       "      <td>1603626051</td>\n",
       "      <td>EC4N0003</td>\n",
       "      <td>A1</td>\n",
       "      <td>0.11</td>\n",
       "      <td>2020-10-21 13:00:02</td>\n",
       "      <td>0.102</td>\n",
       "      <td>Signature1</td>\n",
       "    </tr>\n",
       "  </tbody>\n",
       "</table>\n",
       "</div>"
      ],
      "text/plain": [
       "                v1    dev_id port  value            create_ts  rolling_avg  \\\n",
       "801257  1603626048  EC4N0003   A0   0.10  2020-10-25 11:40:49        0.100   \n",
       "801258  1603626048  EC4N0003   A0   0.10  2020-10-25 11:40:49        0.100   \n",
       "801259  1603626049  EC4N0003   A0   0.10  2020-10-25 11:40:50        0.100   \n",
       "801260  1603626050  EC4N0003   A0   0.10  2020-10-25 11:40:51        0.100   \n",
       "801261  1603626051  EC4N0003   A1   0.11  2020-10-21 13:00:02        0.102   \n",
       "\n",
       "              pred  \n",
       "801257        Idle  \n",
       "801258        Idle  \n",
       "801259        Idle  \n",
       "801260        Idle  \n",
       "801261  Signature1  "
      ]
     },
     "execution_count": 79,
     "metadata": {},
     "output_type": "execute_result"
    }
   ],
   "source": [
    "df2.tail()"
   ]
  },
  {
   "cell_type": "markdown",
   "metadata": {},
   "source": [
    "# ALL FUNCTION DEFINITIONS"
   ]
  },
  {
   "cell_type": "code",
   "execution_count": 64,
   "metadata": {},
   "outputs": [],
   "source": [
    "def rollinng(df,x):\n",
    "    import pandas as pd\n",
    "    import numpy as np\n",
    "    sum=0\n",
    "    x=int(x)\n",
    "    for i in range(0,x):\n",
    "        sum = sum + float(df.iloc[-1-i,3])\n",
    "    df.loc[df.index[-1],'rolling_avg'] = sum/x\n",
    "    return df\n",
    "\n"
   ]
  },
  {
   "cell_type": "code",
   "execution_count": 65,
   "metadata": {},
   "outputs": [],
   "source": [
    "def stddev(df1,n):\n",
    "    df1 = df1[-n:]\n",
    "    import pandas as pd\n",
    "    import numpy as np\n",
    "    std = np.std(df1[\"value\"])\n",
    "    return std"
   ]
  },
  {
   "cell_type": "code",
   "execution_count": 67,
   "metadata": {},
   "outputs": [],
   "source": [
    "def maximum(df,n):\n",
    "    import pandas as pd\n",
    "    df = df[-n:]\n",
    "    max_val = df.value.max()\n",
    "    a = df['value'].idxmax()\n",
    "    max_time = df['create_ts'][a]\n",
    "    return max_val,max_time"
   ]
  },
  {
   "cell_type": "code",
   "execution_count": 68,
   "metadata": {},
   "outputs": [],
   "source": [
    "def minimum(df,n):\n",
    "    df = df[-n:]\n",
    "    min_val = df.value.min()\n",
    "    x = df['value'].idxmin() \n",
    "    min_time = df[\"create_ts\"][x]\n",
    "    return min_val,min_time\n"
   ]
  },
  {
   "cell_type": "code",
   "execution_count": 69,
   "metadata": {},
   "outputs": [],
   "source": [
    "def mean(df1,n):\n",
    "    df1 = df1[-n:]\n",
    "    avg = df1.value.mean()\n",
    "    return avg"
   ]
  },
  {
   "cell_type": "code",
   "execution_count": 70,
   "metadata": {},
   "outputs": [],
   "source": [
    "def hmean(df1,n):\n",
    "    df1 = df1[-n:]\n",
    "    import scipy\n",
    "    from scipy import stats\n",
    "    return scipy.stats.hmean(df1[\"value\"])\n",
    "    "
   ]
  },
  {
   "cell_type": "code",
   "execution_count": 80,
   "metadata": {},
   "outputs": [],
   "source": [
    "def deriv1(df1):\n",
    "    import pandas as pd\n",
    "    import numpy as np\n",
    "    df_avg = df1.groupby('create_ts',sort=False,as_index=False).mean()\n",
    "    df_avg['diff'] = df_avg['create_ts'] - df_avg['create_ts'].shift(1)\n",
    "    df_avg[\"diff\"] = df_avg[\"diff\"].dt.total_seconds()\n",
    "    df_avg[\"diff\"].fillna(0,inplace=True)\n",
    "    df_avg[\"diff\"] = df_avg[\"diff\"].astype(int)\n",
    "    df_avg['delta'] = df_avg['value'] - df_avg['value'].shift(1)\n",
    "    df_avg['derivative'] = df_avg[\"delta\"]/df_avg[\"diff\"]\n",
    "    return df_avg"
   ]
  },
  {
   "cell_type": "code",
   "execution_count": 91,
   "metadata": {},
   "outputs": [],
   "source": [
    "# Rolling average for entire dataframe\n",
    "def rolling_avg1(df):\n",
    "    import numpy as np\n",
    "    import pandas as pd\n",
    "    df['rolling_avg'] = df['value'].rolling(window=4).mean()\n",
    "    return df"
   ]
  },
  {
   "cell_type": "code",
   "execution_count": 92,
   "metadata": {},
   "outputs": [],
   "source": [
    "# Predict function for prev data\n",
    "def predict(df,x):    \n",
    "    import pandas as pd\n",
    "    import numpy as np\n",
    "    df.loc[df.index[-1],'pred'] = np.where(df.loc[df.index[-1],'rolling_avg']>=x, 'Running', 'Idle')\n",
    "    return df\n"
   ]
  },
  {
   "cell_type": "code",
   "execution_count": null,
   "metadata": {},
   "outputs": [],
   "source": []
  },
  {
   "cell_type": "code",
   "execution_count": null,
   "metadata": {},
   "outputs": [],
   "source": []
  }
 ],
 "metadata": {
  "kernelspec": {
   "display_name": "Python 3",
   "language": "python",
   "name": "python3"
  },
  "language_info": {
   "codemirror_mode": {
    "name": "ipython",
    "version": 3
   },
   "file_extension": ".py",
   "mimetype": "text/x-python",
   "name": "python",
   "nbconvert_exporter": "python",
   "pygments_lexer": "ipython3",
   "version": "3.8.3"
  }
 },
 "nbformat": 4,
 "nbformat_minor": 4
}
